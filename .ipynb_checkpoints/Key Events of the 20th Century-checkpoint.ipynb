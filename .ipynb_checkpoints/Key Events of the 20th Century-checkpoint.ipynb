{
 "cells": [
  {
   "cell_type": "markdown",
   "id": "9fd2e197-2776-4cd2-804b-736e043006c4",
   "metadata": {},
   "source": [
    "# 1.4 Accessing web data without API"
   ]
  },
  {
   "cell_type": "code",
   "execution_count": 1,
   "id": "2ad33954-3897-43d5-b8b9-a8ca19c7fa07",
   "metadata": {},
   "outputs": [],
   "source": [
    "# Import libraries\n",
    "\n",
    "import pandas as pd\n",
    "import time\n",
    "from selenium import webdriver\n",
    "from webdriver_manager.chrome import ChromeDriverManager\n",
    "from selenium.webdriver.common.by import By\n",
    "from selenium.webdriver.chrome.service import Service\n",
    "from selenium.webdriver.chrome.options import Options\n",
    "import matplotlib.pyplot as plt\n",
    "import os\n",
    "import logging\n",
    "import requests\n",
    "import bs4"
   ]
  },
  {
   "cell_type": "code",
   "execution_count": 2,
   "id": "9395c74a-dc45-4c8c-9513-0a5d23a9f9f4",
   "metadata": {},
   "outputs": [],
   "source": [
    "## Setup chrome options\n",
    "\n",
    "chrome_options = Options()\n",
    "chrome_options.add_argument(\"--headless\") # Ensure GUI is off\n",
    "chrome_options.add_argument(\"--no-sandbox\")"
   ]
  },
  {
   "cell_type": "code",
   "execution_count": 3,
   "id": "813a5a48-1468-45b9-ae27-a1578b271fd1",
   "metadata": {},
   "outputs": [],
   "source": [
    "# Install Chrome driver manager\n",
    "\n",
    "service = Service(executable_path=ChromeDriverManager().install())"
   ]
  },
  {
   "cell_type": "code",
   "execution_count": 4,
   "id": "f6616a89-2f07-4ea1-9434-f30f663dcb58",
   "metadata": {},
   "outputs": [
    {
     "name": "stdout",
     "output_type": "stream",
     "text": [
      "Key events of the 20th century - Wikipedia\n"
     ]
    }
   ],
   "source": [
    "from selenium import webdriver\n",
    "from selenium.webdriver.chrome.options import Options\n",
    "\n",
    "options = Options()\n",
    "options.add_argument(\"--headless\")   # optional: run without opening window\n",
    "options.add_argument(\"--no-sandbox\")\n",
    "\n",
    "driver = webdriver.Chrome(options=options)   # Selenium auto-finds driver\n",
    "driver.get(\"https://en.wikipedia.org/wiki/Key_events_of_the_20th_century\")\n",
    "print(driver.title)\n",
    "driver.quit()"
   ]
  },
  {
   "cell_type": "code",
   "execution_count": 5,
   "id": "3fb09eea-cce4-4f39-a106-4b7a5c81e8bc",
   "metadata": {},
   "outputs": [],
   "source": [
    "service = Service(\"/usr/local/bin/chromedriver\")  \n",
    "driver = webdriver.Chrome(service=service)"
   ]
  },
  {
   "cell_type": "markdown",
   "id": "359a52c0-32fb-4973-b9c9-62e91bd3337c",
   "metadata": {},
   "source": [
    "## Scraping Wikipedia with requests and bs4"
   ]
  },
  {
   "cell_type": "code",
   "execution_count": 6,
   "id": "a8f29e85-eec0-40fd-bcb5-db2ff223ebf2",
   "metadata": {},
   "outputs": [],
   "source": [
    "# Second portion\n",
    "\n",
    "import requests\n",
    "from bs4 import BeautifulSoup"
   ]
  },
  {
   "cell_type": "code",
   "execution_count": 7,
   "id": "a9fdb7fa-cb49-49c3-9cb6-8d55a67126ee",
   "metadata": {},
   "outputs": [],
   "source": [
    "# Get URL\n",
    "\n",
    "page = requests.get(\"https://en.wikipedia.org/wiki/Key_events_of_the_20th_century\")"
   ]
  },
  {
   "cell_type": "code",
   "execution_count": 8,
   "id": "e772ff8f-07b4-4170-8440-4e5c96d00d9f",
   "metadata": {},
   "outputs": [
    {
     "name": "stdout",
     "output_type": "stream",
     "text": [
      "200\n"
     ]
    }
   ],
   "source": [
    "url = \"https://en.wikipedia.org/wiki/Key_events_of_the_20th_century\"\n",
    "\n",
    "headers = {\n",
    "    \"User-Agent\": \"Mozilla/5.0 (Macintosh; Intel Mac OS X 10_15_7) \"\n",
    "                  \"AppleWebKit/537.36 (KHTML, like Gecko) \"\n",
    "                  \"Chrome/117.0 Safari/537.36\"\n",
    "}\n",
    "\n",
    "page = requests.get(url, headers=headers)\n",
    "\n",
    "print(page.status_code)  "
   ]
  },
  {
   "cell_type": "code",
   "execution_count": 9,
   "id": "3cafa8f0-f661-462c-ad09-fb49948f57b9",
   "metadata": {},
   "outputs": [
    {
     "name": "stdout",
     "output_type": "stream",
     "text": [
      "<title>Key events of the 20th century - Wikipedia</title>\n",
      "Key events of the 20th century - Wikipedia\n"
     ]
    }
   ],
   "source": [
    "soup = BeautifulSoup(page.text, 'html.parser')\n",
    "print(soup.title)         \n",
    "print(soup.title.string) "
   ]
  },
  {
   "cell_type": "code",
   "execution_count": null,
   "id": "dde39e49-b1d9-4ae8-8b4a-d88b7232488e",
   "metadata": {},
   "outputs": [],
   "source": []
  }
 ],
 "metadata": {
  "kernelspec": {
   "display_name": "Python [conda env:20th_century]",
   "language": "python",
   "name": "conda-env-20th_century-py"
  },
  "language_info": {
   "codemirror_mode": {
    "name": "ipython",
    "version": 3
   },
   "file_extension": ".py",
   "mimetype": "text/x-python",
   "name": "python",
   "nbconvert_exporter": "python",
   "pygments_lexer": "ipython3",
   "version": "3.13.5"
  }
 },
 "nbformat": 4,
 "nbformat_minor": 5
}
