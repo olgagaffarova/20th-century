{
 "cells": [
  {
   "cell_type": "markdown",
   "id": "9fd2e197-2776-4cd2-804b-736e043006c4",
   "metadata": {},
   "source": [
    "# 1.4 Accessing web data without API"
   ]
  },
  {
   "cell_type": "code",
   "execution_count": 50,
   "id": "2ad33954-3897-43d5-b8b9-a8ca19c7fa07",
   "metadata": {},
   "outputs": [],
   "source": [
    "# Import libraries\n",
    "\n",
    "import pandas as pd\n",
    "import time\n",
    "from selenium import webdriver\n",
    "from webdriver_manager.chrome import ChromeDriverManager\n",
    "from selenium.webdriver.common.by import By\n",
    "from selenium.webdriver.chrome.service import Service\n",
    "from selenium.webdriver.chrome.options import Options\n",
    "import matplotlib.pyplot as plt\n",
    "import os\n",
    "import logging\n",
    "import requests\n",
    "import bs4"
   ]
  },
  {
   "cell_type": "code",
   "execution_count": 51,
   "id": "9395c74a-dc45-4c8c-9513-0a5d23a9f9f4",
   "metadata": {},
   "outputs": [],
   "source": [
    "## Setup chrome options\n",
    "\n",
    "chrome_options = Options()\n",
    "chrome_options.add_argument(\"--headless\") # Ensure GUI is off\n",
    "chrome_options.add_argument(\"--no-sandbox\")"
   ]
  },
  {
   "cell_type": "code",
   "execution_count": 52,
   "id": "813a5a48-1468-45b9-ae27-a1578b271fd1",
   "metadata": {},
   "outputs": [],
   "source": [
    "# Install Chrome driver manager\n",
    "\n",
    "service = Service(executable_path=ChromeDriverManager().install())"
   ]
  },
  {
   "cell_type": "code",
   "execution_count": 53,
   "id": "f6616a89-2f07-4ea1-9434-f30f663dcb58",
   "metadata": {},
   "outputs": [
    {
     "name": "stdout",
     "output_type": "stream",
     "text": [
      "Key events of the 20th century - Wikipedia\n"
     ]
    }
   ],
   "source": [
    "from selenium import webdriver\n",
    "from selenium.webdriver.chrome.options import Options\n",
    "\n",
    "options = Options()\n",
    "options.add_argument(\"--headless\")   # optional: run without opening window\n",
    "options.add_argument(\"--no-sandbox\")\n",
    "\n",
    "driver = webdriver.Chrome(options=options)   # Selenium auto-finds driver\n",
    "driver.get(\"https://en.wikipedia.org/wiki/Key_events_of_the_20th_century\")\n",
    "print(driver.title)\n",
    "driver.quit()"
   ]
  },
  {
   "cell_type": "code",
   "execution_count": 54,
   "id": "3fb09eea-cce4-4f39-a106-4b7a5c81e8bc",
   "metadata": {},
   "outputs": [],
   "source": [
    "service = Service(\"/usr/local/bin/chromedriver\")  \n",
    "driver = webdriver.Chrome(service=service)"
   ]
  },
  {
   "cell_type": "markdown",
   "id": "359a52c0-32fb-4973-b9c9-62e91bd3337c",
   "metadata": {},
   "source": [
    "## Scraping Wikipedia with requests and bs4"
   ]
  },
  {
   "cell_type": "code",
   "execution_count": 55,
   "id": "a8f29e85-eec0-40fd-bcb5-db2ff223ebf2",
   "metadata": {},
   "outputs": [],
   "source": [
    "# Second portion\n",
    "\n",
    "import requests\n",
    "from bs4 import BeautifulSoup"
   ]
  },
  {
   "cell_type": "code",
   "execution_count": 56,
   "id": "a9fdb7fa-cb49-49c3-9cb6-8d55a67126ee",
   "metadata": {},
   "outputs": [],
   "source": [
    "# Get URL\n",
    "\n",
    "page = requests.get(\"https://en.wikipedia.org/wiki/Key_events_of_the_20th_century\")"
   ]
  },
  {
   "cell_type": "code",
   "execution_count": 57,
   "id": "e772ff8f-07b4-4170-8440-4e5c96d00d9f",
   "metadata": {},
   "outputs": [
    {
     "name": "stdout",
     "output_type": "stream",
     "text": [
      "200\n"
     ]
    }
   ],
   "source": [
    "url = \"https://en.wikipedia.org/wiki/Key_events_of_the_20th_century\"\n",
    "\n",
    "headers = {\n",
    "    \"User-Agent\": \"Mozilla/5.0 (Macintosh; Intel Mac OS X 10_15_7) \"\n",
    "                  \"AppleWebKit/537.36 (KHTML, like Gecko) \"\n",
    "                  \"Chrome/117.0 Safari/537.36\"\n",
    "}\n",
    "\n",
    "page = requests.get(url, headers=headers)\n",
    "\n",
    "print(page.status_code)  "
   ]
  },
  {
   "cell_type": "code",
   "execution_count": 58,
   "id": "3cafa8f0-f661-462c-ad09-fb49948f57b9",
   "metadata": {},
   "outputs": [
    {
     "name": "stdout",
     "output_type": "stream",
     "text": [
      "<title>Key events of the 20th century - Wikipedia</title>\n",
      "Key events of the 20th century - Wikipedia\n"
     ]
    }
   ],
   "source": [
    "soup = BeautifulSoup(page.text, 'html.parser')\n",
    "print(soup.title)         \n",
    "print(soup.title.string) "
   ]
  },
  {
   "cell_type": "code",
   "execution_count": 59,
   "id": "dde39e49-b1d9-4ae8-8b4a-d88b7232488e",
   "metadata": {},
   "outputs": [],
   "source": [
    "text = soup.get_text()"
   ]
  },
  {
   "cell_type": "code",
   "execution_count": 60,
   "id": "16f1834f-c03f-49cf-ae03-b2a4f690b189",
   "metadata": {},
   "outputs": [],
   "source": [
    "text = text.encode('utf-8')"
   ]
  },
  {
   "cell_type": "code",
   "execution_count": 61,
   "id": "230f9ab5-a295-48ef-8f3c-7685fa91b012",
   "metadata": {},
   "outputs": [],
   "source": [
    "with open('Key events of the 20th century.txt', 'wb') as f: \n",
    "    f.write(text)"
   ]
  },
  {
   "cell_type": "markdown",
   "id": "4881ac40-b549-4242-9278-17901223e63c",
   "metadata": {},
   "source": [
    "## Scraping Countries wiki page using selenium"
   ]
  },
  {
   "cell_type": "code",
   "execution_count": 62,
   "id": "83ba478a-181c-42d6-ab9e-0f84028b2105",
   "metadata": {},
   "outputs": [],
   "source": [
    "# Get the page's contents\n",
    "\n",
    "page_url = \"https://simple.m.wikipedia.org/wiki/List_of_countries\"\n",
    "driver.get(page_url)"
   ]
  },
  {
   "cell_type": "code",
   "execution_count": 63,
   "id": "e75da880-3430-42a4-b175-8920773a1e02",
   "metadata": {},
   "outputs": [],
   "source": [
    "# Click on Accept cookies\n",
    "\n",
    "# time.sleep(3)\n",
    "# driver.find_element(By.XPATH, '//div[text()=\"ACCEPT\"]').click()"
   ]
  },
  {
   "cell_type": "code",
   "execution_count": 64,
   "id": "533f9e1b-4f0b-4051-8619-023fc42a39af",
   "metadata": {},
   "outputs": [],
   "source": [
    "content = driver.find_element(By.ID, \"content-collapsible-block-0\")"
   ]
  },
  {
   "cell_type": "code",
   "execution_count": 65,
   "id": "efd5496c-4e42-41b0-85fb-30b5647cac1f",
   "metadata": {},
   "outputs": [],
   "source": [
    "# Get all <a> tags inside\n",
    "links = content.find_elements(By.TAG_NAME, \"a\")\n"
   ]
  },
  {
   "cell_type": "code",
   "execution_count": 66,
   "id": "be7a1000-4a93-462c-8ee2-e6b5bfd935f0",
   "metadata": {},
   "outputs": [],
   "source": [
    "# Extract their text (remove empty strings)\n",
    "texts = [link.text for link in links if link.text.strip() != \"\"]\n"
   ]
  },
  {
   "cell_type": "code",
   "execution_count": 67,
   "id": "16166b12-477d-40bf-8f93-b1badbaf3011",
   "metadata": {},
   "outputs": [
    {
     "name": "stdout",
     "output_type": "stream",
     "text": [
      "['Afghanistan', 'Albania', 'Algeria', 'Andorra', 'Angola', 'Antigua and Barbuda', 'Argentina', 'Armenia', 'Australia', 'Austria', 'Azerbaijan', 'Bahamas', 'Bahrain', 'Bangladesh', 'Barbados', 'Belarus', 'Belgium', 'Belize', 'Benin', 'Bhutan']\n"
     ]
    }
   ],
   "source": [
    "print(texts[:20])   # quick preview"
   ]
  },
  {
   "cell_type": "code",
   "execution_count": 68,
   "id": "94a9d944-d257-4b45-bb3b-94114a629411",
   "metadata": {},
   "outputs": [],
   "source": [
    "# Create DataFrame\n",
    "df = pd.DataFrame(texts, columns=[\"Country\"])\n"
   ]
  },
  {
   "cell_type": "code",
   "execution_count": 69,
   "id": "e0e46ddc-d00d-4f30-9e62-691b5a985f01",
   "metadata": {},
   "outputs": [
    {
     "data": {
      "text/html": [
       "<div>\n",
       "<style scoped>\n",
       "    .dataframe tbody tr th:only-of-type {\n",
       "        vertical-align: middle;\n",
       "    }\n",
       "\n",
       "    .dataframe tbody tr th {\n",
       "        vertical-align: top;\n",
       "    }\n",
       "\n",
       "    .dataframe thead th {\n",
       "        text-align: right;\n",
       "    }\n",
       "</style>\n",
       "<table border=\"1\" class=\"dataframe\">\n",
       "  <thead>\n",
       "    <tr style=\"text-align: right;\">\n",
       "      <th></th>\n",
       "      <th>Country</th>\n",
       "    </tr>\n",
       "  </thead>\n",
       "  <tbody>\n",
       "    <tr>\n",
       "      <th>0</th>\n",
       "      <td>Afghanistan</td>\n",
       "    </tr>\n",
       "    <tr>\n",
       "      <th>1</th>\n",
       "      <td>Albania</td>\n",
       "    </tr>\n",
       "    <tr>\n",
       "      <th>2</th>\n",
       "      <td>Algeria</td>\n",
       "    </tr>\n",
       "    <tr>\n",
       "      <th>3</th>\n",
       "      <td>Andorra</td>\n",
       "    </tr>\n",
       "    <tr>\n",
       "      <th>4</th>\n",
       "      <td>Angola</td>\n",
       "    </tr>\n",
       "  </tbody>\n",
       "</table>\n",
       "</div>"
      ],
      "text/plain": [
       "       Country\n",
       "0  Afghanistan\n",
       "1      Albania\n",
       "2      Algeria\n",
       "3      Andorra\n",
       "4       Angola"
      ]
     },
     "execution_count": 69,
     "metadata": {},
     "output_type": "execute_result"
    }
   ],
   "source": [
    "df.head()"
   ]
  },
  {
   "cell_type": "code",
   "execution_count": 70,
   "id": "c347cb6b-4430-4bab-bf4a-779e95f45d38",
   "metadata": {},
   "outputs": [
    {
     "data": {
      "text/plain": [
       "<bound method DataFrame.info of          Country\n",
       "0    Afghanistan\n",
       "1        Albania\n",
       "2        Algeria\n",
       "3        Andorra\n",
       "4         Angola\n",
       "..           ...\n",
       "190    Venezuela\n",
       "191      Vietnam\n",
       "192        Yemen\n",
       "193       Zambia\n",
       "194     Zimbabwe\n",
       "\n",
       "[195 rows x 1 columns]>"
      ]
     },
     "execution_count": 70,
     "metadata": {},
     "output_type": "execute_result"
    }
   ],
   "source": [
    "df.info"
   ]
  },
  {
   "cell_type": "code",
   "execution_count": 71,
   "id": "11ce88cc-dfc5-400e-881d-b45a603505d1",
   "metadata": {},
   "outputs": [
    {
     "data": {
      "text/plain": [
       "(195, 1)"
      ]
     },
     "execution_count": 71,
     "metadata": {},
     "output_type": "execute_result"
    }
   ],
   "source": [
    "df.shape"
   ]
  },
  {
   "cell_type": "code",
   "execution_count": 72,
   "id": "35a78501-85e7-4418-b302-520fb5127562",
   "metadata": {},
   "outputs": [],
   "source": [
    "# Save the dataframe as csv\n",
    "\n",
    "df.to_csv('List of Countries_2.0.csv')"
   ]
  },
  {
   "cell_type": "code",
   "execution_count": null,
   "id": "ce4d3bea-1abc-4cbb-bba7-91df933c4f85",
   "metadata": {},
   "outputs": [],
   "source": []
  },
  {
   "cell_type": "code",
   "execution_count": 73,
   "id": "0d32136f-6e2b-4a04-862d-7e75d763c0f9",
   "metadata": {},
   "outputs": [],
   "source": [
    "content_2 = driver.find_element(By.ID, \"content-collapsible-block-2\")"
   ]
  },
  {
   "cell_type": "code",
   "execution_count": 74,
   "id": "ec2dbf79-6a4b-4c83-85a9-47b79a7a7bc4",
   "metadata": {},
   "outputs": [],
   "source": [
    "# Get all <a> tags inside\n",
    "links_2 = content_2.find_elements(By.TAG_NAME, \"a\")"
   ]
  },
  {
   "cell_type": "code",
   "execution_count": 75,
   "id": "1c4d1553-5b9f-4e00-b406-0878defcfd5a",
   "metadata": {},
   "outputs": [],
   "source": [
    "# Extract their text (remove empty strings)\n",
    "texts_2 = [link_2.text for link_2 in links_2 if link_2.text.strip() != \"\"]"
   ]
  },
  {
   "cell_type": "code",
   "execution_count": 76,
   "id": "bb0c7097-eff9-41d0-8b95-63d693d8f2ba",
   "metadata": {},
   "outputs": [],
   "source": [
    "# Create DataFrame\n",
    "df_2 = pd.DataFrame(texts_2, columns=[\"Dependant Countries\"])"
   ]
  },
  {
   "cell_type": "code",
   "execution_count": 77,
   "id": "e0bfb400-17d9-4e71-83bc-fd4e3f19dc6b",
   "metadata": {},
   "outputs": [
    {
     "data": {
      "text/html": [
       "<div>\n",
       "<style scoped>\n",
       "    .dataframe tbody tr th:only-of-type {\n",
       "        vertical-align: middle;\n",
       "    }\n",
       "\n",
       "    .dataframe tbody tr th {\n",
       "        vertical-align: top;\n",
       "    }\n",
       "\n",
       "    .dataframe thead th {\n",
       "        text-align: right;\n",
       "    }\n",
       "</style>\n",
       "<table border=\"1\" class=\"dataframe\">\n",
       "  <thead>\n",
       "    <tr style=\"text-align: right;\">\n",
       "      <th></th>\n",
       "      <th>Dependant Countries</th>\n",
       "    </tr>\n",
       "  </thead>\n",
       "  <tbody>\n",
       "    <tr>\n",
       "      <th>0</th>\n",
       "      <td>Akrotiri</td>\n",
       "    </tr>\n",
       "    <tr>\n",
       "      <th>1</th>\n",
       "      <td>Åland Islands</td>\n",
       "    </tr>\n",
       "    <tr>\n",
       "      <th>2</th>\n",
       "      <td>American Samoa</td>\n",
       "    </tr>\n",
       "    <tr>\n",
       "      <th>3</th>\n",
       "      <td>Anguilla</td>\n",
       "    </tr>\n",
       "    <tr>\n",
       "      <th>4</th>\n",
       "      <td>Aruba</td>\n",
       "    </tr>\n",
       "  </tbody>\n",
       "</table>\n",
       "</div>"
      ],
      "text/plain": [
       "  Dependant Countries\n",
       "0            Akrotiri\n",
       "1       Åland Islands\n",
       "2      American Samoa\n",
       "3            Anguilla\n",
       "4               Aruba"
      ]
     },
     "execution_count": 77,
     "metadata": {},
     "output_type": "execute_result"
    }
   ],
   "source": [
    "df_2.head()"
   ]
  },
  {
   "cell_type": "code",
   "execution_count": 78,
   "id": "14c8a547-cf7b-4ade-b480-dad9816c0372",
   "metadata": {},
   "outputs": [],
   "source": [
    "countries_test = driver.find_elements(By.XPATH, \"//a[contains(@href,'/wiki/') and not(contains(@href, 'File:'))]\")"
   ]
  },
  {
   "cell_type": "code",
   "execution_count": 83,
   "id": "3c900bac-3cfc-4421-927d-5b613081ee2c",
   "metadata": {},
   "outputs": [
    {
     "name": "stdout",
     "output_type": "stream",
     "text": [
      "Afghanistan\n",
      "Bahamas\n",
      "Cabo Verde\n",
      "Democratic Republic of the Congo\n",
      "Ecuador\n",
      "Fiji\n",
      "Gabon\n",
      "Haiti\n",
      "Iceland\n",
      "Jamaica\n",
      "Kazakhstan\n",
      "Laos\n",
      "Madagascar\n",
      "Namibia\n",
      "Oman\n",
      "Pakistan\n",
      "Qatar\n",
      "Republic of the Congo\n",
      "Saint Kitts and Nevis\n",
      "Tajikistan\n",
      "Uganda\n",
      "Vanuatu\n",
      "Yemen\n",
      "Zambia\n",
      "Abkhazia\n",
      "Akrotiri\n",
      "Agaléga\n",
      "Banc du Geyser\n",
      "Canary Islands\n",
      "Desecheo\n",
      "Glorioso Islands\n",
      "Heligoland\n",
      "Mona\n",
      "Petite Martinique\n",
      "Rodrigues Island\n",
      "Tromelin Island\n",
      "Adélie Land\n",
      "Balleny Islands\n",
      "Marie Byrd Land\n",
      "Adjara\n",
      "Bangsamoro\n"
     ]
    }
   ],
   "source": [
    "header = driver.find_element(By.XPATH, \"//*[normalize-space(text())='Countries']\")\n",
    "countries = header.find_elements(By.XPATH, \"following::p[.//a][not(.//span[contains(text(),'Disputed countries')])]\")\n",
    "for p in countries:\n",
    "    print(p.find_element(By.XPATH, \".//a[1]\").text)"
   ]
  },
  {
   "cell_type": "code",
   "execution_count": null,
   "id": "732cc347-5870-4763-a5ad-66e2b36cbd44",
   "metadata": {},
   "outputs": [],
   "source": []
  },
  {
   "cell_type": "code",
   "execution_count": null,
   "id": "1ea2df4e-be91-4120-bfda-a65ee32dcd53",
   "metadata": {},
   "outputs": [],
   "source": []
  },
  {
   "cell_type": "code",
   "execution_count": null,
   "id": "973bf470-33c5-42c6-ad9e-605c53a66527",
   "metadata": {},
   "outputs": [],
   "source": []
  },
  {
   "cell_type": "code",
   "execution_count": null,
   "id": "c34ccce9-6b88-47d4-86fe-bcb1d5db23a8",
   "metadata": {},
   "outputs": [],
   "source": [
    "for country in countries_test:\n",
    "    print(country.text)"
   ]
  },
  {
   "cell_type": "code",
   "execution_count": null,
   "id": "5a54a981-04d4-4705-83c2-4be88982e280",
   "metadata": {},
   "outputs": [],
   "source": [
    "countries_list = [c.text for c in countries_test]\n",
    "df_test = pd.DataFrame(countries_list, columns=[\"Countries\"])"
   ]
  },
  {
   "cell_type": "code",
   "execution_count": null,
   "id": "bf8ef312-61b5-4f82-9aa9-274335720e11",
   "metadata": {},
   "outputs": [],
   "source": []
  },
  {
   "cell_type": "code",
   "execution_count": null,
   "id": "2c9de1d9-3690-4b87-b7e8-387200b0f326",
   "metadata": {},
   "outputs": [],
   "source": []
  },
  {
   "cell_type": "code",
   "execution_count": null,
   "id": "09925cd0-20d8-44fb-aaa2-c58153263698",
   "metadata": {},
   "outputs": [],
   "source": []
  }
 ],
 "metadata": {
  "kernelspec": {
   "display_name": "Python (20th_century)",
   "language": "python",
   "name": "20th_century"
  },
  "language_info": {
   "codemirror_mode": {
    "name": "ipython",
    "version": 3
   },
   "file_extension": ".py",
   "mimetype": "text/x-python",
   "name": "python",
   "nbconvert_exporter": "python",
   "pygments_lexer": "ipython3",
   "version": "3.13.5"
  }
 },
 "nbformat": 4,
 "nbformat_minor": 5
}
