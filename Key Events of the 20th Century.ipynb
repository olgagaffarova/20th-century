{
 "cells": [
  {
   "cell_type": "markdown",
   "id": "9fd2e197-2776-4cd2-804b-736e043006c4",
   "metadata": {},
   "source": [
    "# 1.4 Accessing web data without API"
   ]
  },
  {
   "cell_type": "code",
   "execution_count": 1,
   "id": "2ad33954-3897-43d5-b8b9-a8ca19c7fa07",
   "metadata": {},
   "outputs": [],
   "source": [
    "# Import libraries\n",
    "\n",
    "import pandas as pd\n",
    "import time\n",
    "from selenium import webdriver\n",
    "from webdriver_manager.chrome import ChromeDriverManager\n",
    "from selenium.webdriver.common.by import By\n",
    "from selenium.webdriver.chrome.service import Service\n",
    "from selenium.webdriver.chrome.options import Options\n",
    "import matplotlib.pyplot as plt\n",
    "import os\n",
    "import logging\n",
    "import requests\n",
    "import bs4"
   ]
  },
  {
   "cell_type": "code",
   "execution_count": 2,
   "id": "9395c74a-dc45-4c8c-9513-0a5d23a9f9f4",
   "metadata": {},
   "outputs": [],
   "source": [
    "## Setup chrome options\n",
    "\n",
    "chrome_options = Options()\n",
    "chrome_options.add_argument(\"--headless\") # Ensure GUI is off\n",
    "chrome_options.add_argument(\"--no-sandbox\")"
   ]
  },
  {
   "cell_type": "code",
   "execution_count": 3,
   "id": "813a5a48-1468-45b9-ae27-a1578b271fd1",
   "metadata": {},
   "outputs": [],
   "source": [
    "# Install Chrome driver manager\n",
    "\n",
    "service = Service(executable_path=ChromeDriverManager().install())"
   ]
  },
  {
   "cell_type": "code",
   "execution_count": 18,
   "id": "f6616a89-2f07-4ea1-9434-f30f663dcb58",
   "metadata": {},
   "outputs": [
    {
     "name": "stdout",
     "output_type": "stream",
     "text": [
      "Key events of the 20th century - Wikipedia\n"
     ]
    }
   ],
   "source": [
    "from selenium import webdriver\n",
    "from selenium.webdriver.chrome.options import Options\n",
    "\n",
    "options = Options()\n",
    "options.add_argument(\"--headless\")   # optional: run without opening window\n",
    "options.add_argument(\"--no-sandbox\")\n",
    "\n",
    "driver = webdriver.Chrome(options=options)   # Selenium auto-finds driver\n",
    "driver.get(\"https://en.wikipedia.org/wiki/Key_events_of_the_20th_century\")\n",
    "print(driver.title)\n",
    "driver.quit()"
   ]
  },
  {
   "cell_type": "code",
   "execution_count": 19,
   "id": "3fb09eea-cce4-4f39-a106-4b7a5c81e8bc",
   "metadata": {},
   "outputs": [],
   "source": [
    "service = Service(\"/usr/local/bin/chromedriver\")  \n",
    "driver = webdriver.Chrome(service=service)"
   ]
  },
  {
   "cell_type": "markdown",
   "id": "359a52c0-32fb-4973-b9c9-62e91bd3337c",
   "metadata": {},
   "source": [
    "## Scraping Wikipedia with requests and bs4"
   ]
  },
  {
   "cell_type": "code",
   "execution_count": 6,
   "id": "a8f29e85-eec0-40fd-bcb5-db2ff223ebf2",
   "metadata": {},
   "outputs": [],
   "source": [
    "# Second portion\n",
    "\n",
    "import requests\n",
    "from bs4 import BeautifulSoup"
   ]
  },
  {
   "cell_type": "code",
   "execution_count": 7,
   "id": "a9fdb7fa-cb49-49c3-9cb6-8d55a67126ee",
   "metadata": {},
   "outputs": [],
   "source": [
    "# Get URL\n",
    "\n",
    "page = requests.get(\"https://en.wikipedia.org/wiki/Key_events_of_the_20th_century\")"
   ]
  },
  {
   "cell_type": "code",
   "execution_count": 8,
   "id": "e772ff8f-07b4-4170-8440-4e5c96d00d9f",
   "metadata": {},
   "outputs": [
    {
     "name": "stdout",
     "output_type": "stream",
     "text": [
      "200\n"
     ]
    }
   ],
   "source": [
    "url = \"https://en.wikipedia.org/wiki/Key_events_of_the_20th_century\"\n",
    "\n",
    "headers = {\n",
    "    \"User-Agent\": \"Mozilla/5.0 (Macintosh; Intel Mac OS X 10_15_7) \"\n",
    "                  \"AppleWebKit/537.36 (KHTML, like Gecko) \"\n",
    "                  \"Chrome/117.0 Safari/537.36\"\n",
    "}\n",
    "\n",
    "page = requests.get(url, headers=headers)\n",
    "\n",
    "print(page.status_code)  "
   ]
  },
  {
   "cell_type": "code",
   "execution_count": 9,
   "id": "3cafa8f0-f661-462c-ad09-fb49948f57b9",
   "metadata": {},
   "outputs": [
    {
     "name": "stdout",
     "output_type": "stream",
     "text": [
      "<title>Key events of the 20th century - Wikipedia</title>\n",
      "Key events of the 20th century - Wikipedia\n"
     ]
    }
   ],
   "source": [
    "soup = BeautifulSoup(page.text, 'html.parser')\n",
    "print(soup.title)         \n",
    "print(soup.title.string) "
   ]
  },
  {
   "cell_type": "code",
   "execution_count": 10,
   "id": "dde39e49-b1d9-4ae8-8b4a-d88b7232488e",
   "metadata": {},
   "outputs": [],
   "source": [
    "text = soup.get_text()"
   ]
  },
  {
   "cell_type": "code",
   "execution_count": 11,
   "id": "16f1834f-c03f-49cf-ae03-b2a4f690b189",
   "metadata": {},
   "outputs": [],
   "source": [
    "text = text.encode('utf-8')"
   ]
  },
  {
   "cell_type": "code",
   "execution_count": 13,
   "id": "230f9ab5-a295-48ef-8f3c-7685fa91b012",
   "metadata": {},
   "outputs": [],
   "source": [
    "with open('Key events of the 20th century.txt', 'wb') as f: \n",
    "    f.write(text)"
   ]
  },
  {
   "cell_type": "markdown",
   "id": "4881ac40-b549-4242-9278-17901223e63c",
   "metadata": {},
   "source": [
    "## Scraping Countries wiki page using selenium"
   ]
  },
  {
   "cell_type": "code",
   "execution_count": 20,
   "id": "83ba478a-181c-42d6-ab9e-0f84028b2105",
   "metadata": {},
   "outputs": [],
   "source": [
    "# Get the page's contents\n",
    "\n",
    "page_url = \"https://simple.m.wikipedia.org/wiki/List_of_countries\"\n",
    "driver.get(page_url)"
   ]
  },
  {
   "cell_type": "code",
   "execution_count": 21,
   "id": "e75da880-3430-42a4-b175-8920773a1e02",
   "metadata": {},
   "outputs": [],
   "source": [
    "# Click on Accept cookies\n",
    "\n",
    "# time.sleep(3)\n",
    "# driver.find_element(By.XPATH, '//div[text()=\"ACCEPT\"]').click()"
   ]
  },
  {
   "cell_type": "code",
   "execution_count": 36,
   "id": "533f9e1b-4f0b-4051-8619-023fc42a39af",
   "metadata": {},
   "outputs": [],
   "source": [
    "content = driver.find_element(By.CLASS_NAME, \"mw-parser-output\")"
   ]
  },
  {
   "cell_type": "code",
   "execution_count": 37,
   "id": "efd5496c-4e42-41b0-85fb-30b5647cac1f",
   "metadata": {},
   "outputs": [],
   "source": [
    "# Get all <a> tags inside\n",
    "links = content.find_elements(By.TAG_NAME, \"a\")\n"
   ]
  },
  {
   "cell_type": "code",
   "execution_count": 38,
   "id": "be7a1000-4a93-462c-8ee2-e6b5bfd935f0",
   "metadata": {},
   "outputs": [],
   "source": [
    "# Extract their text (remove empty strings)\n",
    "texts = [link.text for link in links if link.text.strip() != \"\"]\n"
   ]
  },
  {
   "cell_type": "code",
   "execution_count": 39,
   "id": "16166b12-477d-40bf-8f93-b1badbaf3011",
   "metadata": {},
   "outputs": [
    {
     "name": "stdout",
     "output_type": "stream",
     "text": [
      "['sovereign states', 'Afghanistan', 'Albania', 'Algeria', 'Andorra', 'Angola', 'Antigua and Barbuda', 'Argentina', 'Armenia', 'Australia', 'Austria', 'Azerbaijan', 'Bahamas', 'Bahrain', 'Bangladesh', 'Barbados', 'Belarus', 'Belgium', 'Belize', 'Benin']\n"
     ]
    }
   ],
   "source": [
    "print(texts[:20])   # quick preview"
   ]
  },
  {
   "cell_type": "code",
   "execution_count": 41,
   "id": "94a9d944-d257-4b45-bb3b-94114a629411",
   "metadata": {},
   "outputs": [],
   "source": [
    "# Create DataFrame\n",
    "df = pd.DataFrame(texts, columns=[\"Country\"])\n"
   ]
  },
  {
   "cell_type": "code",
   "execution_count": 42,
   "id": "e0e46ddc-d00d-4f30-9e62-691b5a985f01",
   "metadata": {},
   "outputs": [
    {
     "data": {
      "text/html": [
       "<div>\n",
       "<style scoped>\n",
       "    .dataframe tbody tr th:only-of-type {\n",
       "        vertical-align: middle;\n",
       "    }\n",
       "\n",
       "    .dataframe tbody tr th {\n",
       "        vertical-align: top;\n",
       "    }\n",
       "\n",
       "    .dataframe thead th {\n",
       "        text-align: right;\n",
       "    }\n",
       "</style>\n",
       "<table border=\"1\" class=\"dataframe\">\n",
       "  <thead>\n",
       "    <tr style=\"text-align: right;\">\n",
       "      <th></th>\n",
       "      <th>Country</th>\n",
       "    </tr>\n",
       "  </thead>\n",
       "  <tbody>\n",
       "    <tr>\n",
       "      <th>0</th>\n",
       "      <td>sovereign states</td>\n",
       "    </tr>\n",
       "    <tr>\n",
       "      <th>1</th>\n",
       "      <td>Afghanistan</td>\n",
       "    </tr>\n",
       "    <tr>\n",
       "      <th>2</th>\n",
       "      <td>Albania</td>\n",
       "    </tr>\n",
       "    <tr>\n",
       "      <th>3</th>\n",
       "      <td>Algeria</td>\n",
       "    </tr>\n",
       "    <tr>\n",
       "      <th>4</th>\n",
       "      <td>Andorra</td>\n",
       "    </tr>\n",
       "  </tbody>\n",
       "</table>\n",
       "</div>"
      ],
      "text/plain": [
       "            Country\n",
       "0  sovereign states\n",
       "1       Afghanistan\n",
       "2           Albania\n",
       "3           Algeria\n",
       "4           Andorra"
      ]
     },
     "execution_count": 42,
     "metadata": {},
     "output_type": "execute_result"
    }
   ],
   "source": [
    "df.head()"
   ]
  },
  {
   "cell_type": "code",
   "execution_count": 43,
   "id": "38b72abd-7dda-4c45-9ba7-e64fdf205695",
   "metadata": {},
   "outputs": [],
   "source": [
    "df=df.drop(index=0)"
   ]
  },
  {
   "cell_type": "code",
   "execution_count": 44,
   "id": "54c132ae-1ca7-4014-9e76-a976dfda6a7c",
   "metadata": {},
   "outputs": [
    {
     "data": {
      "text/html": [
       "<div>\n",
       "<style scoped>\n",
       "    .dataframe tbody tr th:only-of-type {\n",
       "        vertical-align: middle;\n",
       "    }\n",
       "\n",
       "    .dataframe tbody tr th {\n",
       "        vertical-align: top;\n",
       "    }\n",
       "\n",
       "    .dataframe thead th {\n",
       "        text-align: right;\n",
       "    }\n",
       "</style>\n",
       "<table border=\"1\" class=\"dataframe\">\n",
       "  <thead>\n",
       "    <tr style=\"text-align: right;\">\n",
       "      <th></th>\n",
       "      <th>Country</th>\n",
       "    </tr>\n",
       "  </thead>\n",
       "  <tbody>\n",
       "    <tr>\n",
       "      <th>1</th>\n",
       "      <td>Afghanistan</td>\n",
       "    </tr>\n",
       "    <tr>\n",
       "      <th>2</th>\n",
       "      <td>Albania</td>\n",
       "    </tr>\n",
       "    <tr>\n",
       "      <th>3</th>\n",
       "      <td>Algeria</td>\n",
       "    </tr>\n",
       "    <tr>\n",
       "      <th>4</th>\n",
       "      <td>Andorra</td>\n",
       "    </tr>\n",
       "    <tr>\n",
       "      <th>5</th>\n",
       "      <td>Angola</td>\n",
       "    </tr>\n",
       "  </tbody>\n",
       "</table>\n",
       "</div>"
      ],
      "text/plain": [
       "       Country\n",
       "1  Afghanistan\n",
       "2      Albania\n",
       "3      Algeria\n",
       "4      Andorra\n",
       "5       Angola"
      ]
     },
     "execution_count": 44,
     "metadata": {},
     "output_type": "execute_result"
    }
   ],
   "source": [
    "df.head()"
   ]
  },
  {
   "cell_type": "code",
   "execution_count": 45,
   "id": "c347cb6b-4430-4bab-bf4a-779e95f45d38",
   "metadata": {},
   "outputs": [
    {
     "data": {
      "text/plain": [
       "<bound method DataFrame.info of            Country\n",
       "1      Afghanistan\n",
       "2          Albania\n",
       "3          Algeria\n",
       "4          Andorra\n",
       "5           Angola\n",
       "..             ...\n",
       "356         Adjara\n",
       "357         Adygea\n",
       "358          Altai\n",
       "359     Bangsamoro\n",
       "360  Bashkortostan\n",
       "\n",
       "[360 rows x 1 columns]>"
      ]
     },
     "execution_count": 45,
     "metadata": {},
     "output_type": "execute_result"
    }
   ],
   "source": [
    "df.info"
   ]
  },
  {
   "cell_type": "code",
   "execution_count": 46,
   "id": "11ce88cc-dfc5-400e-881d-b45a603505d1",
   "metadata": {},
   "outputs": [
    {
     "data": {
      "text/plain": [
       "(360, 1)"
      ]
     },
     "execution_count": 46,
     "metadata": {},
     "output_type": "execute_result"
    }
   ],
   "source": [
    "df.shape"
   ]
  },
  {
   "cell_type": "code",
   "execution_count": 47,
   "id": "35a78501-85e7-4418-b302-520fb5127562",
   "metadata": {},
   "outputs": [],
   "source": [
    "# Save the dataframe as csv\n",
    "\n",
    "df.to_csv('List of Countries.csv')"
   ]
  },
  {
   "cell_type": "code",
   "execution_count": null,
   "id": "ce4d3bea-1abc-4cbb-bba7-91df933c4f85",
   "metadata": {},
   "outputs": [],
   "source": []
  }
 ],
 "metadata": {
  "kernelspec": {
   "display_name": "Python [conda env:20th_century]",
   "language": "python",
   "name": "conda-env-20th_century-py"
  },
  "language_info": {
   "codemirror_mode": {
    "name": "ipython",
    "version": 3
   },
   "file_extension": ".py",
   "mimetype": "text/x-python",
   "name": "python",
   "nbconvert_exporter": "python",
   "pygments_lexer": "ipython3",
   "version": "3.13.5"
  }
 },
 "nbformat": 4,
 "nbformat_minor": 5
}
