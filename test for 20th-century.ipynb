{
 "cells": [
  {
   "cell_type": "markdown",
   "id": "74059731-e478-4250-8a49-f8f5c8141031",
   "metadata": {},
   "source": [
    "test"
   ]
  },
  {
   "cell_type": "code",
   "execution_count": 1,
   "id": "47bfb7c8-2220-41b8-b74a-1a126c0182f7",
   "metadata": {},
   "outputs": [],
   "source": [
    "a = 1+1"
   ]
  },
  {
   "cell_type": "code",
   "execution_count": 2,
   "id": "199cdb22-b770-4ed5-9206-e90887b9d1da",
   "metadata": {},
   "outputs": [
    {
     "data": {
      "text/plain": [
       "2"
      ]
     },
     "execution_count": 2,
     "metadata": {},
     "output_type": "execute_result"
    }
   ],
   "source": [
    "a"
   ]
  },
  {
   "cell_type": "code",
   "execution_count": 1,
   "id": "f8aed961-1ce6-401a-8581-0dd8dc7cb6b1",
   "metadata": {},
   "outputs": [],
   "source": [
    "x = 2+2"
   ]
  },
  {
   "cell_type": "code",
   "execution_count": 2,
   "id": "1d74c59a-1680-4ff3-966e-582e46b0693e",
   "metadata": {},
   "outputs": [
    {
     "name": "stdout",
     "output_type": "stream",
     "text": [
      "4\n"
     ]
    }
   ],
   "source": [
    "print(x)"
   ]
  },
  {
   "cell_type": "code",
   "execution_count": null,
   "id": "f9a7ac18-7aa4-46bb-b3a0-fb2e133694c9",
   "metadata": {},
   "outputs": [],
   "source": []
  }
 ],
 "metadata": {
  "kernelspec": {
   "display_name": "Python [conda env:base] *",
   "language": "python",
   "name": "conda-base-py"
  },
  "language_info": {
   "codemirror_mode": {
    "name": "ipython",
    "version": 3
   },
   "file_extension": ".py",
   "mimetype": "text/x-python",
   "name": "python",
   "nbconvert_exporter": "python",
   "pygments_lexer": "ipython3",
   "version": "3.13.5"
  }
 },
 "nbformat": 4,
 "nbformat_minor": 5
}
